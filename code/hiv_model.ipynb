{
 "cells": [
  {
   "cell_type": "markdown",
   "metadata": {},
   "source": [
    "# HIV Model\n",
    "Kristin Aoki"
   ]
  },
  {
   "cell_type": "code",
   "execution_count": 3,
   "metadata": {},
   "outputs": [],
   "source": [
    "# Configure Jupyter so figures appear in the notebook\n",
    "%matplotlib inline\n",
    "\n",
    "# Configure Jupyter to display the assigned value after an assignment\n",
    "%config InteractiveShell.ast_node_interactivity='last_expr_or_assign'\n",
    "\n",
    "# import functions from the modsim.py module\n",
    "from modsim import *"
   ]
  },
  {
   "cell_type": "code",
   "execution_count": 4,
   "metadata": {},
   "outputs": [],
   "source": [
    "#def make_system(alpha,beta,pi,gamma,delta,mu,sigma,tao,rho):\n",
    "\n",
    "    #init=State(R=200, \n",
    "           #L=0, \n",
    "           #E=0, \n",
    "           #V=4e-7)\n",
    "    #init /= np.sum(init)\n",
    "    \n",
    "    #t0=0\n",
    "    #t_end=120\n",
    "    #dt= 0.1\n",
    "    \n",
    "    #return System(init=init, t0=t0, t_end=t_end, dt=dt, alpha=alpha, beta=beta, \n",
    "                  #pi=pi, gamma=gamma, delta=delta, mu=mu, sigma=sigma, tao=tao, rho=rho)"
   ]
  },
  {
   "cell_type": "code",
   "execution_count": 36,
   "metadata": {},
   "outputs": [
    {
     "data": {
      "text/html": [
       "<div>\n",
       "<style scoped>\n",
       "    .dataframe tbody tr th:only-of-type {\n",
       "        vertical-align: middle;\n",
       "    }\n",
       "\n",
       "    .dataframe tbody tr th {\n",
       "        vertical-align: top;\n",
       "    }\n",
       "\n",
       "    .dataframe thead th {\n",
       "        text-align: right;\n",
       "    }\n",
       "</style>\n",
       "<table border=\"1\" class=\"dataframe\">\n",
       "  <thead>\n",
       "    <tr style=\"text-align: right;\">\n",
       "      <th></th>\n",
       "      <th>values</th>\n",
       "    </tr>\n",
       "  </thead>\n",
       "  <tbody>\n",
       "    <tr>\n",
       "      <th>alpha</th>\n",
       "      <td>0.03600</td>\n",
       "    </tr>\n",
       "    <tr>\n",
       "      <th>beta</th>\n",
       "      <td>0.00027</td>\n",
       "    </tr>\n",
       "    <tr>\n",
       "      <th>pi</th>\n",
       "      <td>100.00000</td>\n",
       "    </tr>\n",
       "    <tr>\n",
       "      <th>gamma</th>\n",
       "      <td>1.36000</td>\n",
       "    </tr>\n",
       "    <tr>\n",
       "      <th>delta</th>\n",
       "      <td>0.33000</td>\n",
       "    </tr>\n",
       "    <tr>\n",
       "      <th>mu</th>\n",
       "      <td>0.00136</td>\n",
       "    </tr>\n",
       "    <tr>\n",
       "      <th>sigma</th>\n",
       "      <td>2.00000</td>\n",
       "    </tr>\n",
       "    <tr>\n",
       "      <th>tao</th>\n",
       "      <td>0.20000</td>\n",
       "    </tr>\n",
       "    <tr>\n",
       "      <th>rho</th>\n",
       "      <td>0.10000</td>\n",
       "    </tr>\n",
       "    <tr>\n",
       "      <th>t0</th>\n",
       "      <td>0.00000</td>\n",
       "    </tr>\n",
       "    <tr>\n",
       "      <th>t_end</th>\n",
       "      <td>120.00000</td>\n",
       "    </tr>\n",
       "    <tr>\n",
       "      <th>dt</th>\n",
       "      <td>0.10000</td>\n",
       "    </tr>\n",
       "  </tbody>\n",
       "</table>\n",
       "</div>"
      ],
      "text/plain": [
       "alpha      0.03600\n",
       "beta       0.00027\n",
       "pi       100.00000\n",
       "gamma      1.36000\n",
       "delta      0.33000\n",
       "mu         0.00136\n",
       "sigma      2.00000\n",
       "tao        0.20000\n",
       "rho        0.10000\n",
       "t0         0.00000\n",
       "t_end    120.00000\n",
       "dt         0.10000\n",
       "dtype: float64"
      ]
     },
     "execution_count": 36,
     "metadata": {},
     "output_type": "execute_result"
    }
   ],
   "source": [
    "system = System(alpha = 0.036,beta = 0.00027,pi = 100,gamma = 1.36,delta = 0.33,mu = 0.00136,sigma = 2,tao = 0.2,rho = 0.1,t0=0,t_end=120,dt=0.1)\n",
    "\n"
   ]
  },
  {
   "cell_type": "code",
   "execution_count": 43,
   "metadata": {},
   "outputs": [],
   "source": [
    "def run_simulation(system, update_func):\n",
    "    \"\"\"Runs a simulation of the system.\n",
    "        \n",
    "    system: System object\n",
    "    update_func: function that updates state\n",
    "    \n",
    "    returns: TimeFrame\n",
    "    \"\"\"\n",
    "    unpack(system)\n",
    "    \n",
    "    frame = TimeFrame(columns=init.index)\n",
    "    frame.row[t0] = init\n",
    "    \n",
    "    for t in linrange(t0, t_end, dt):\n",
    "        frame.row[t+dt] = update_func(frame.row[t], t, system)\n",
    "    \n",
    "    print(frame)\n",
    "    return frame\n",
    "    "
   ]
  },
  {
   "cell_type": "code",
   "execution_count": 44,
   "metadata": {},
   "outputs": [],
   "source": [
    "def update_func(state, t, system):\n",
    "    \"\"\"Update the SIR model.\n",
    "    \n",
    "    state: State (s, i, r)\n",
    "    t: time\n",
    "    system: System object\n",
    "    \n",
    "    returns: State (sir)\n",
    "    \"\"\"\n",
    "    r,l,e,v = state\n",
    "\n",
    "    deltar = (system.gamma*system.tao) -  (system.mu*r) - (system.beta*r*v)\n",
    "    deltal = (system.rho*system.beta*r*v) - (system.mu*l) - (system.alpha*l)\n",
    "    deltae = ((1-system.rho)*(system.beta*r*v)) + (system.alpha*l) - (system.delta*e)\n",
    "    deltav = (system.pi*e) - (system.sigma*v)\n",
    "    \n",
    "    r += deltar*system.dt\n",
    "    l += deltal*system.dt\n",
    "    e += deltae*system.dt\n",
    "    v += deltav*system.dt\n",
    "    \n",
    "    return State(R=r, L=l, E=e, V=v)"
   ]
  },
  {
   "cell_type": "code",
   "execution_count": 45,
   "metadata": {},
   "outputs": [
    {
     "data": {
      "text/html": [
       "<div>\n",
       "<style scoped>\n",
       "    .dataframe tbody tr th:only-of-type {\n",
       "        vertical-align: middle;\n",
       "    }\n",
       "\n",
       "    .dataframe tbody tr th {\n",
       "        vertical-align: top;\n",
       "    }\n",
       "\n",
       "    .dataframe thead th {\n",
       "        text-align: right;\n",
       "    }\n",
       "</style>\n",
       "<table border=\"1\" class=\"dataframe\">\n",
       "  <thead>\n",
       "    <tr style=\"text-align: right;\">\n",
       "      <th></th>\n",
       "      <th>values</th>\n",
       "    </tr>\n",
       "  </thead>\n",
       "  <tbody>\n",
       "    <tr>\n",
       "      <th>R</th>\n",
       "      <td>2.000000e+02</td>\n",
       "    </tr>\n",
       "    <tr>\n",
       "      <th>L</th>\n",
       "      <td>0.000000e+00</td>\n",
       "    </tr>\n",
       "    <tr>\n",
       "      <th>E</th>\n",
       "      <td>0.000000e+00</td>\n",
       "    </tr>\n",
       "    <tr>\n",
       "      <th>V</th>\n",
       "      <td>4.000000e-07</td>\n",
       "    </tr>\n",
       "  </tbody>\n",
       "</table>\n",
       "</div>"
      ],
      "text/plain": [
       "R    2.000000e+02\n",
       "L    0.000000e+00\n",
       "E    0.000000e+00\n",
       "V    4.000000e-07\n",
       "dtype: float64"
      ]
     },
     "execution_count": 45,
     "metadata": {},
     "output_type": "execute_result"
    }
   ],
   "source": [
    "init = State(R=200, L=0,E=0,V=4e-7)"
   ]
  },
  {
   "cell_type": "code",
   "execution_count": 46,
   "metadata": {},
   "outputs": [
    {
     "data": {
      "text/html": [
       "<div>\n",
       "<style scoped>\n",
       "    .dataframe tbody tr th:only-of-type {\n",
       "        vertical-align: middle;\n",
       "    }\n",
       "\n",
       "    .dataframe tbody tr th {\n",
       "        vertical-align: top;\n",
       "    }\n",
       "\n",
       "    .dataframe thead th {\n",
       "        text-align: right;\n",
       "    }\n",
       "</style>\n",
       "<table border=\"1\" class=\"dataframe\">\n",
       "  <thead>\n",
       "    <tr style=\"text-align: right;\">\n",
       "      <th></th>\n",
       "      <th>values</th>\n",
       "    </tr>\n",
       "  </thead>\n",
       "  <tbody>\n",
       "    <tr>\n",
       "      <th>R</th>\n",
       "      <td>2.000000e+02</td>\n",
       "    </tr>\n",
       "    <tr>\n",
       "      <th>L</th>\n",
       "      <td>2.160000e-10</td>\n",
       "    </tr>\n",
       "    <tr>\n",
       "      <th>E</th>\n",
       "      <td>1.944000e-09</td>\n",
       "    </tr>\n",
       "    <tr>\n",
       "      <th>V</th>\n",
       "      <td>3.200000e-07</td>\n",
       "    </tr>\n",
       "  </tbody>\n",
       "</table>\n",
       "</div>"
      ],
      "text/plain": [
       "R    2.000000e+02\n",
       "L    2.160000e-10\n",
       "E    1.944000e-09\n",
       "V    3.200000e-07\n",
       "dtype: float64"
      ]
     },
     "execution_count": 46,
     "metadata": {},
     "output_type": "execute_result"
    }
   ],
   "source": [
    "update_func(init,0,system)"
   ]
  },
  {
   "cell_type": "code",
   "execution_count": 47,
   "metadata": {},
   "outputs": [
    {
     "name": "stdout",
     "output_type": "stream",
     "text": [
      "                R             L             E             V\n",
      "0.0    200.000000  0.000000e+00  0.000000e+00  4.000000e-07\n",
      "0.1    200.000000  2.160000e-10  1.944000e-09  3.200000e-07\n",
      "0.2    200.000000  3.879930e-10  3.435826e-09  2.754400e-07\n",
      "0.3    200.000000  5.352811e-10  4.662479e-09  2.547103e-07\n",
      "0.4    200.000000  6.708248e-10  5.748436e-09  2.503930e-07\n",
      "0.5    200.000000  8.035308e-10  6.778062e-09  2.577987e-07\n",
      "0.6    200.000000  9.397402e-10  7.810181e-09  2.740196e-07\n",
      "0.7    200.000000  1.084200e-09  8.887563e-09  2.973175e-07\n",
      "0.8    200.000000  1.240701e-09  1.004314e-08  3.267296e-07\n",
      "0.9    200.000000  1.412500e-09  1.130409e-08  3.618151e-07\n",
      "1.0    200.000000  1.602603e-09  1.269456e-08  4.024930e-07\n",
      "1.1    200.000000  1.813961e-09  1.423752e-08  4.489400e-07\n",
      "1.2    200.000000  2.049612e-09  1.595607e-08  5.015272e-07\n",
      "1.3    200.000000  2.312779e-09  1.787432e-08  5.607824e-07\n",
      "1.4    200.000000  2.606961e-09  2.001819e-08  6.273691e-07\n",
      "1.5    200.000000  2.936001e-09  2.241599e-08  7.020772e-07\n",
      "1.6    200.000000  3.304154e-09  2.509893e-08  7.858217e-07\n",
      "1.7    200.000000  3.716153e-09  2.810165e-08  8.796466e-07\n",
      "1.8    200.000000  4.177279e-09  3.146276e-08  9.847338e-07\n",
      "1.9    200.000000  4.693429e-09  3.522533e-08  1.102415e-06\n",
      "2.0    200.000000  5.271198e-09  3.943753e-08  1.234185e-06\n",
      "2.1    200.000000  5.917965e-09  4.415320e-08  1.381723e-06\n",
      "2.2    200.000000  6.641986e-09  4.943263e-08  1.546911e-06\n",
      "2.3    200.000000  7.452503e-09  5.534325e-08  1.731855e-06\n",
      "2.4    200.000000  8.359862e-09  6.196056e-08  1.938916e-06\n",
      "2.5    200.000000  9.375645e-09  6.936909e-08  2.170739e-06\n",
      "2.6    200.000000  1.051282e-08  7.766346e-08  2.430282e-06\n",
      "2.7    200.000000  1.178589e-08  8.694958e-08  2.720860e-06\n",
      "2.8    200.000000  1.321112e-08  9.734605e-08  3.046184e-06\n",
      "2.9    200.000000  1.480671e-08  1.089856e-07  3.410408e-06\n",
      "...           ...           ...           ...           ...\n",
      "117.1   17.412081  7.234712e-01  2.469730e-01  1.242273e+01\n",
      "117.2   17.431073  7.213523e-01  2.466836e-01  1.240792e+01\n",
      "117.3   17.450063  7.192413e-01  2.463956e-01  1.239317e+01\n",
      "117.4   17.469051  7.171381e-01  2.461090e-01  1.237849e+01\n",
      "117.5   17.488036  7.150427e-01  2.458237e-01  1.236388e+01\n",
      "117.6   17.507020  7.129551e-01  2.455399e-01  1.234934e+01\n",
      "117.7   17.526002  7.108753e-01  2.452574e-01  1.233487e+01\n",
      "117.8   17.544981  7.088031e-01  2.449762e-01  1.232047e+01\n",
      "117.9   17.563959  7.067387e-01  2.446964e-01  1.230614e+01\n",
      "118.0   17.582934  7.046819e-01  2.444180e-01  1.229188e+01\n",
      "118.1   17.601907  7.026328e-01  2.441410e-01  1.227768e+01\n",
      "118.2   17.620879  7.005912e-01  2.438653e-01  1.226356e+01\n",
      "118.3   17.639848  6.985573e-01  2.435910e-01  1.224950e+01\n",
      "118.4   17.658814  6.965309e-01  2.433180e-01  1.223551e+01\n",
      "118.5   17.677779  6.945120e-01  2.430464e-01  1.222159e+01\n",
      "118.6   17.696741  6.925006e-01  2.427761e-01  1.220773e+01\n",
      "118.7   17.715702  6.904968e-01  2.425072e-01  1.219395e+01\n",
      "118.8   17.734660  6.885003e-01  2.422397e-01  1.218023e+01\n",
      "118.9   17.753615  6.865113e-01  2.419734e-01  1.216658e+01\n",
      "119.0   17.772569  6.845297e-01  2.417086e-01  1.215300e+01\n",
      "119.1   17.791520  6.825555e-01  2.414451e-01  1.213948e+01\n",
      "119.2   17.810469  6.805886e-01  2.411829e-01  1.212604e+01\n",
      "119.3   17.829416  6.786291e-01  2.409220e-01  1.211266e+01\n",
      "119.4   17.848360  6.766768e-01  2.406626e-01  1.209935e+01\n",
      "119.5   17.867302  6.747318e-01  2.404044e-01  1.208610e+01\n",
      "119.6   17.886241  6.727941e-01  2.401476e-01  1.207293e+01\n",
      "119.7   17.905178  6.708635e-01  2.398921e-01  1.205982e+01\n",
      "119.8   17.924113  6.689402e-01  2.396379e-01  1.204677e+01\n",
      "119.9   17.943045  6.670241e-01  2.393851e-01  1.203380e+01\n",
      "120.0   17.961975  6.651150e-01  2.391336e-01  1.202089e+01\n",
      "\n",
      "[1201 rows x 4 columns]\n"
     ]
    },
    {
     "data": {
      "text/html": [
       "<div>\n",
       "<style scoped>\n",
       "    .dataframe tbody tr th:only-of-type {\n",
       "        vertical-align: middle;\n",
       "    }\n",
       "\n",
       "    .dataframe tbody tr th {\n",
       "        vertical-align: top;\n",
       "    }\n",
       "\n",
       "    .dataframe thead th {\n",
       "        text-align: right;\n",
       "    }\n",
       "</style>\n",
       "<table border=\"1\" class=\"dataframe\">\n",
       "  <thead>\n",
       "    <tr style=\"text-align: right;\">\n",
       "      <th></th>\n",
       "      <th>R</th>\n",
       "      <th>L</th>\n",
       "      <th>E</th>\n",
       "      <th>V</th>\n",
       "    </tr>\n",
       "  </thead>\n",
       "  <tbody>\n",
       "    <tr>\n",
       "      <th>0.0</th>\n",
       "      <td>200.0</td>\n",
       "      <td>0.000000e+00</td>\n",
       "      <td>0.000000e+00</td>\n",
       "      <td>4.000000e-07</td>\n",
       "    </tr>\n",
       "    <tr>\n",
       "      <th>0.1</th>\n",
       "      <td>200.0</td>\n",
       "      <td>2.160000e-10</td>\n",
       "      <td>1.944000e-09</td>\n",
       "      <td>3.200000e-07</td>\n",
       "    </tr>\n",
       "    <tr>\n",
       "      <th>0.2</th>\n",
       "      <td>200.0</td>\n",
       "      <td>3.879930e-10</td>\n",
       "      <td>3.435826e-09</td>\n",
       "      <td>2.754400e-07</td>\n",
       "    </tr>\n",
       "    <tr>\n",
       "      <th>0.3</th>\n",
       "      <td>200.0</td>\n",
       "      <td>5.352811e-10</td>\n",
       "      <td>4.662479e-09</td>\n",
       "      <td>2.547103e-07</td>\n",
       "    </tr>\n",
       "    <tr>\n",
       "      <th>0.4</th>\n",
       "      <td>200.0</td>\n",
       "      <td>6.708248e-10</td>\n",
       "      <td>5.748436e-09</td>\n",
       "      <td>2.503930e-07</td>\n",
       "    </tr>\n",
       "  </tbody>\n",
       "</table>\n",
       "</div>"
      ],
      "text/plain": [
       "         R             L             E             V\n",
       "0.0  200.0  0.000000e+00  0.000000e+00  4.000000e-07\n",
       "0.1  200.0  2.160000e-10  1.944000e-09  3.200000e-07\n",
       "0.2  200.0  3.879930e-10  3.435826e-09  2.754400e-07\n",
       "0.3  200.0  5.352811e-10  4.662479e-09  2.547103e-07\n",
       "0.4  200.0  6.708248e-10  5.748436e-09  2.503930e-07"
      ]
     },
     "execution_count": 47,
     "metadata": {},
     "output_type": "execute_result"
    }
   ],
   "source": [
    "results = run_simulation(system, update_func)\n",
    "results.head()"
   ]
  },
  {
   "cell_type": "code",
   "execution_count": 55,
   "metadata": {},
   "outputs": [],
   "source": [
    "def plot_results(R, L, E):\n",
    "\n",
    "    plot(R, '--', label='Uninfected')\n",
    "    plot(L, '-', label='Latently Infected')\n",
    "    plot(E, ':', label='Actively Infected')\n",
    "    plt.yscale('log')\n",
    "    plt.axis([0,120,1e-1,1e2])\n",
    "    decorate(xlabel='Time (days)')"
   ]
  },
  {
   "cell_type": "code",
   "execution_count": 56,
   "metadata": {},
   "outputs": [
    {
     "data": {
      "image/png": "[encoded data removed]",
      "text/plain": [
       "<Figure size 432x288 with 1 Axes>"
      ]
     },
     "metadata": {},
     "output_type": "display_data"
    }
   ],
   "source": [
    "plot_results(results.R, results.L, results.E)"
   ]
  },
  {
   "cell_type": "code",
   "execution_count": 57,
   "metadata": {},
   "outputs": [
    {
     "data": {
      "text/plain": [
       "<matplotlib.axes._subplots.AxesSubplot at 0x24fbd4c0668>"
      ]
     },
     "execution_count": 57,
     "metadata": {},
     "output_type": "execute_result"
    },
    {
     "data": {
      "image/png": "[encoded data removed]",
      "text/plain": [
       "<Figure size 432x288 with 1 Axes>"
      ]
     },
     "metadata": {},
     "output_type": "display_data"
    }
   ],
   "source": [
    "results.plot()"
   ]
  },
  {
   "cell_type": "code",
   "execution_count": 58,
   "metadata": {},
   "outputs": [],
   "source": [
    "def plot_results (V):\n",
    "    plot(V, ':', label='Free Virions')\n",
    "    plt.yscale('log')"
   ]
  },
  {
   "cell_type": "code",
   "execution_count": 52,
   "metadata": {},
   "outputs": [
    {
     "data": {
      "image/png": "[encoded data removed]",
      "text/plain": [
       "<Figure size 432x288 with 1 Axes>"
      ]
     },
     "metadata": {},
     "output_type": "display_data"
    }
   ],
   "source": [
    "plot_results (results.V)"
   ]
  },
  {
   "cell_type": "code",
   "execution_count": null,
   "metadata": {},
   "outputs": [],
   "source": []
  }
 ],
 "metadata": {
  "kernelspec": {
   "display_name": "Python 3",
   "language": "python",
   "name": "python3"
  },
  "language_info": {
   "codemirror_mode": {
    "name": "ipython",
    "version": 3
   },
   "file_extension": ".py",
   "mimetype": "text/x-python",
   "name": "python",
   "nbconvert_exporter": "python",
   "pygments_lexer": "ipython3",
   "version": "3.6.6"
  }
 },
 "nbformat": 4,
 "nbformat_minor": 2
}
